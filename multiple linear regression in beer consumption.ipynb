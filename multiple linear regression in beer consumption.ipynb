{
 "cells": [
  {
   "cell_type": "code",
   "execution_count": 25,
   "metadata": {},
   "outputs": [],
   "source": [
    "import pandas as pd\n",
    "import matplotlib.pyplot as plt\n",
    "import numpy as np\n",
    "\n",
    "from sklearn import linear_model\n",
    "from sklearn.metrics import mean_squared_error, r2_score\n",
    "from sklearn.model_selection import train_test_split"
   ]
  },
  {
   "cell_type": "code",
   "execution_count": 26,
   "metadata": {},
   "outputs": [],
   "source": [
    "df = pd.read_csv(\"D:/maria project/beer.csv\")\n"
   ]
  },
  {
   "cell_type": "code",
   "execution_count": 27,
   "metadata": {},
   "outputs": [
    {
     "name": "stdout",
     "output_type": "stream",
     "text": [
      "Index(['Temp Med', 'Temp Min', 'Temp Max', 'Prec', 'weekend', 'cons'], dtype='object')\n"
     ]
    }
   ],
   "source": [
    "print(df.columns)"
   ]
  },
  {
   "cell_type": "code",
   "execution_count": 28,
   "metadata": {},
   "outputs": [],
   "source": [
    "df.columns = ['Temp Med', 'Temp Min', 'Temp Max', 'Prec', 'weekend', 'cons']"
   ]
  },
  {
   "cell_type": "code",
   "execution_count": 29,
   "metadata": {},
   "outputs": [
    {
     "name": "stdout",
     "output_type": "stream",
     "text": [
      "         Temp Med    Temp Min    Temp Max        Prec     weekend        cons\n",
      "count  365.000000  365.000000  365.000000  365.000000  365.000000  365.000000\n",
      "mean    21.226356   17.461370   26.611507    5.196712    0.284932   25.401367\n",
      "std      3.180108    2.826185    4.317366   12.417844    0.452001    4.399143\n",
      "min     12.900000   10.600000   14.500000    0.000000    0.000000   14.343000\n",
      "25%     19.020000   15.300000   23.800000    0.000000    0.000000   22.008000\n",
      "50%     21.380000   17.900000   26.900000    0.000000    0.000000   24.867000\n",
      "75%     23.280000   19.600000   29.400000    3.200000    1.000000   28.631000\n",
      "max     28.860000   24.500000   36.500000   94.800000    1.000000   37.937000\n"
     ]
    }
   ],
   "source": [
    "print(df.describe())"
   ]
  },
  {
   "cell_type": "code",
   "execution_count": 30,
   "metadata": {},
   "outputs": [],
   "source": [
    "X = df.iloc[:,df.columns != 'cons']"
   ]
  },
  {
   "cell_type": "code",
   "execution_count": 31,
   "metadata": {},
   "outputs": [],
   "source": [
    "Y = df.iloc[:, 0]\n",
    "X_train, X_test, Y_train, Y_test = train_test_split(X, Y, test_size=0.2, random_state= 0)"
   ]
  },
  {
   "cell_type": "code",
   "execution_count": 32,
   "metadata": {},
   "outputs": [
    {
     "data": {
      "text/plain": [
       "LinearRegression(copy_X=True, fit_intercept=True, n_jobs=None, normalize=False)"
      ]
     },
     "execution_count": 32,
     "metadata": {},
     "output_type": "execute_result"
    }
   ],
   "source": [
    "model = linear_model.LinearRegression()\n",
    "model.fit(X_train, Y_train)"
   ]
  },
  {
   "cell_type": "code",
   "execution_count": 33,
   "metadata": {},
   "outputs": [
    {
     "name": "stdout",
     "output_type": "stream",
     "text": [
      "           Coefficient\n",
      "Temp Med  1.000000e+00\n",
      "Temp Min -1.878336e-16\n",
      "Temp Max -3.389796e-16\n",
      "Prec      2.462771e-17\n",
      "weekend   3.542920e-17\n"
     ]
    }
   ],
   "source": [
    "coeff_df = pd.DataFrame(model.coef_, X.columns, columns=['Coefficient'])\n",
    "print(coeff_df)"
   ]
  },
  {
   "cell_type": "code",
   "execution_count": 34,
   "metadata": {},
   "outputs": [],
   "source": [
    "y_pred = model.predict(X_test)\n"
   ]
  },
  {
   "cell_type": "code",
   "execution_count": 35,
   "metadata": {},
   "outputs": [
    {
     "name": "stdout",
     "output_type": "stream",
     "text": [
      "     Actual  Predicted\n",
      "106   21.42      21.42\n",
      "259   27.26      27.26\n",
      "45    22.90      22.90\n",
      "26    23.60      23.60\n",
      "78    21.64      21.64\n",
      "346   24.54      24.54\n",
      "90    22.52      22.52\n",
      "311   20.24      20.24\n",
      "239   16.28      16.28\n",
      "6     24.00      24.00\n"
     ]
    }
   ],
   "source": [
    "df = pd.DataFrame({'Actual': Y_test, 'Predicted': y_pred})\n",
    "print(df.head(10))"
   ]
  },
  {
   "cell_type": "code",
   "execution_count": 36,
   "metadata": {},
   "outputs": [
    {
     "data": {
      "image/png": "[encoded data removed]",
      "text/plain": [
       "<Figure size 720x576 with 1 Axes>"
      ]
     },
     "metadata": {
      "needs_background": "light"
     },
     "output_type": "display_data"
    }
   ],
   "source": [
    "df.plot(kind='bar',figsize=(10,8))\n",
    "plt.grid(which='major', linestyle='-', linewidth='0.5', color='green')\n",
    "plt.grid(which='minor', linestyle=':', linewidth='0.5', color='black')\n",
    "plt.show()"
   ]
  },
  {
   "cell_type": "code",
   "execution_count": 37,
   "metadata": {},
   "outputs": [
    {
     "name": "stdout",
     "output_type": "stream",
     "text": [
      "Intercept: \n",
      " -3.552713678800501e-15\n",
      "Root Mean Square Error \n",
      " 2.895807225220121e-15\n",
      "R^2 Value: \n",
      " 1.0\n"
     ]
    }
   ],
   "source": [
    "# Root Mean Squared Deviation\n",
    "rmsd = np.sqrt(mean_squared_error(Y_test, y_pred))      \n",
    "r2_value = r2_score(Y_test, y_pred)                     \n",
    "\n",
    "print(\"Intercept: \\n\", model.intercept_)\n",
    "print(\"Root Mean Square Error \\n\", rmsd)\n",
    "print(\"R^2 Value: \\n\", r2_value)"
   ]
  },
  {
   "cell_type": "code",
   "execution_count": null,
   "metadata": {},
   "outputs": [],
   "source": []
  }
 ],
 "metadata": {
  "kernelspec": {
   "display_name": "Python 3",
   "language": "python",
   "name": "python3"
  },
  "language_info": {
   "codemirror_mode": {
    "name": "ipython",
    "version": 3
   },
   "file_extension": ".py",
   "mimetype": "text/x-python",
   "name": "python",
   "nbconvert_exporter": "python",
   "pygments_lexer": "ipython3",
   "version": "3.7.4"
  }
 },
 "nbformat": 4,
 "nbformat_minor": 2
}
